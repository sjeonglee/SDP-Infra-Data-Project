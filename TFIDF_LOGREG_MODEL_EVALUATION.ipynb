{
 "cells": [
  {
   "cell_type": "code",
   "execution_count": 1,
   "metadata": {},
   "outputs": [],
   "source": [
    "# import libraries\n",
    "\n",
    "import os\n",
    "import pickle\n",
    "import pandas as pd\n",
    "from sklearn.feature_extraction.text import TfidfVectorizer\n",
    "from sklearn.linear_model import LogisticRegression\n",
    "from sklearn.metrics import classification_report\n",
    "import joblib"
   ]
  },
  {
   "cell_type": "code",
   "execution_count": 2,
   "metadata": {},
   "outputs": [],
   "source": [
    "# file path of the tsv files\n",
    "file_path = 'C:\\\\Users\\\\GLaDOS\\\\Documents\\\\SJ\\\\SDP\\\\Tech\\\\tf-idf_model_train\\\\'\n",
    "\n",
    "# path 뒤에 number.tsv 필요함\n",
    "train_set_augmented = 'data_cut_for_deal_status\\\\train_set_augmented_'\n",
    "train_set_crop = 'data_cut_for_deal_status\\\\train_set_crop_'\n",
    "val_set = 'data_cut_for_deal_status\\\\val_set_'\n",
    "\n",
    "# trainset종류_number.pkl 필요\n",
    "model_file = 'tfidf_logreg_201128_'\n",
    "vector_file = 'tfidf_vector_201128_'"
   ]
  },
  {
   "cell_type": "code",
   "execution_count": 3,
   "metadata": {},
   "outputs": [],
   "source": [
    "train = pd.read_csv(file_path + train_set_augmented + \"0.tsv\", sep='\\t')\n",
    "val = pd.read_csv(file_path + val_set + \"0.tsv\", sep ='\\t')"
   ]
  },
  {
   "cell_type": "code",
   "execution_count": 4,
   "metadata": {},
   "outputs": [
    {
     "data": {
      "text/html": [
       "<div>\n",
       "<style scoped>\n",
       "    .dataframe tbody tr th:only-of-type {\n",
       "        vertical-align: middle;\n",
       "    }\n",
       "\n",
       "    .dataframe tbody tr th {\n",
       "        vertical-align: top;\n",
       "    }\n",
       "\n",
       "    .dataframe thead th {\n",
       "        text-align: right;\n",
       "    }\n",
       "</style>\n",
       "<table border=\"1\" class=\"dataframe\">\n",
       "  <thead>\n",
       "    <tr style=\"text-align: right;\">\n",
       "      <th></th>\n",
       "      <th>body</th>\n",
       "      <th>label</th>\n",
       "    </tr>\n",
       "  </thead>\n",
       "  <tbody>\n",
       "    <tr>\n",
       "      <th>0</th>\n",
       "      <td>Phase 1 (8MW) of the Formosa 1 project began o...</td>\n",
       "      <td>0</td>\n",
       "    </tr>\n",
       "    <tr>\n",
       "      <th>1</th>\n",
       "      <td>Formosa 1 is an offshore wind farm developed n...</td>\n",
       "      <td>0</td>\n",
       "    </tr>\n",
       "    <tr>\n",
       "      <th>2</th>\n",
       "      <td>The first unit of 1320MW coal-fired thermal Pa...</td>\n",
       "      <td>0</td>\n",
       "    </tr>\n",
       "    <tr>\n",
       "      <th>3</th>\n",
       "      <td>The first unit (660 MW) of newly-constructed P...</td>\n",
       "      <td>0</td>\n",
       "    </tr>\n",
       "    <tr>\n",
       "      <th>4</th>\n",
       "      <td>The Formosa 1 offshore wind project in Taiwan ...</td>\n",
       "      <td>0</td>\n",
       "    </tr>\n",
       "  </tbody>\n",
       "</table>\n",
       "</div>"
      ],
      "text/plain": [
       "                                                body  label\n",
       "0  Phase 1 (8MW) of the Formosa 1 project began o...      0\n",
       "1  Formosa 1 is an offshore wind farm developed n...      0\n",
       "2  The first unit of 1320MW coal-fired thermal Pa...      0\n",
       "3  The first unit (660 MW) of newly-constructed P...      0\n",
       "4  The Formosa 1 offshore wind project in Taiwan ...      0"
      ]
     },
     "execution_count": 4,
     "metadata": {},
     "output_type": "execute_result"
    }
   ],
   "source": [
    "train.head()"
   ]
  },
  {
   "cell_type": "code",
   "execution_count": 5,
   "metadata": {},
   "outputs": [
    {
     "data": {
      "text/plain": [
       "1    1070\n",
       "0     806\n",
       "Name: label, dtype: int64"
      ]
     },
     "execution_count": 5,
     "metadata": {},
     "output_type": "execute_result"
    }
   ],
   "source": [
    "train['label'].value_counts()"
   ]
  },
  {
   "cell_type": "code",
   "execution_count": 6,
   "metadata": {},
   "outputs": [
    {
     "data": {
      "text/html": [
       "<div>\n",
       "<style scoped>\n",
       "    .dataframe tbody tr th:only-of-type {\n",
       "        vertical-align: middle;\n",
       "    }\n",
       "\n",
       "    .dataframe tbody tr th {\n",
       "        vertical-align: top;\n",
       "    }\n",
       "\n",
       "    .dataframe thead th {\n",
       "        text-align: right;\n",
       "    }\n",
       "</style>\n",
       "<table border=\"1\" class=\"dataframe\">\n",
       "  <thead>\n",
       "    <tr style=\"text-align: right;\">\n",
       "      <th></th>\n",
       "      <th>body</th>\n",
       "      <th>label</th>\n",
       "    </tr>\n",
       "  </thead>\n",
       "  <tbody>\n",
       "    <tr>\n",
       "      <th>0</th>\n",
       "      <td>Saudi Arabia-headquartered utilities company A...</td>\n",
       "      <td>0</td>\n",
       "    </tr>\n",
       "    <tr>\n",
       "      <th>1</th>\n",
       "      <td>Saudi-based Acwa Power, a major developer of p...</td>\n",
       "      <td>0</td>\n",
       "    </tr>\n",
       "    <tr>\n",
       "      <th>2</th>\n",
       "      <td>Tata Power has an installed hydro power capaci...</td>\n",
       "      <td>0</td>\n",
       "    </tr>\n",
       "    <tr>\n",
       "      <th>3</th>\n",
       "      <td>The project will generate around 450 GWh of cl...</td>\n",
       "      <td>0</td>\n",
       "    </tr>\n",
       "    <tr>\n",
       "      <th>4</th>\n",
       "      <td>Adjaristsqali Georgia (AGL), a joint venture b...</td>\n",
       "      <td>0</td>\n",
       "    </tr>\n",
       "  </tbody>\n",
       "</table>\n",
       "</div>"
      ],
      "text/plain": [
       "                                                body  label\n",
       "0  Saudi Arabia-headquartered utilities company A...      0\n",
       "1  Saudi-based Acwa Power, a major developer of p...      0\n",
       "2  Tata Power has an installed hydro power capaci...      0\n",
       "3  The project will generate around 450 GWh of cl...      0\n",
       "4  Adjaristsqali Georgia (AGL), a joint venture b...      0"
      ]
     },
     "execution_count": 6,
     "metadata": {},
     "output_type": "execute_result"
    }
   ],
   "source": [
    "val.head()"
   ]
  },
  {
   "cell_type": "code",
   "execution_count": 7,
   "metadata": {},
   "outputs": [
    {
     "data": {
      "text/plain": [
       "0    202\n",
       "1     53\n",
       "Name: label, dtype: int64"
      ]
     },
     "execution_count": 7,
     "metadata": {},
     "output_type": "execute_result"
    }
   ],
   "source": [
    "val['label'].value_counts()"
   ]
  },
  {
   "cell_type": "markdown",
   "metadata": {},
   "source": [
    "## Train models for augmented texts"
   ]
  },
  {
   "cell_type": "code",
   "execution_count": 8,
   "metadata": {},
   "outputs": [
    {
     "name": "stdout",
     "output_type": "stream",
     "text": [
      "Report_Augmented 0\n",
      "Accuracy: 0.941176\n",
      "Classification Report_0\n",
      "              precision    recall  f1-score   support\n",
      "\n",
      "           0       0.95      0.98      0.96       202\n",
      "           1       0.91      0.79      0.85        53\n",
      "\n",
      "    accuracy                           0.94       255\n",
      "   macro avg       0.93      0.89      0.91       255\n",
      "weighted avg       0.94      0.94      0.94       255\n",
      "\n",
      "Report_Augmented 1\n",
      "Accuracy: 0.878431\n",
      "Classification Report_1\n",
      "              precision    recall  f1-score   support\n",
      "\n",
      "           0       0.91      0.95      0.92       202\n",
      "           1       0.75      0.62      0.68        53\n",
      "\n",
      "    accuracy                           0.88       255\n",
      "   macro avg       0.83      0.78      0.80       255\n",
      "weighted avg       0.87      0.88      0.87       255\n",
      "\n",
      "Report_Augmented 2\n",
      "Accuracy: 0.776471\n",
      "Classification Report_2\n",
      "              precision    recall  f1-score   support\n",
      "\n",
      "           0       0.94      0.76      0.84       202\n",
      "           1       0.48      0.83      0.61        53\n",
      "\n",
      "    accuracy                           0.78       255\n",
      "   macro avg       0.71      0.80      0.73       255\n",
      "weighted avg       0.85      0.78      0.79       255\n",
      "\n",
      "Report_Augmented 3\n",
      "Accuracy: 0.847059\n",
      "Classification Report_3\n",
      "              precision    recall  f1-score   support\n",
      "\n",
      "           0       0.91      0.90      0.90       201\n",
      "           1       0.64      0.65      0.64        54\n",
      "\n",
      "    accuracy                           0.85       255\n",
      "   macro avg       0.77      0.77      0.77       255\n",
      "weighted avg       0.85      0.85      0.85       255\n",
      "\n",
      "Report_Augmented 4\n",
      "Accuracy: 0.850980\n",
      "Classification Report_4\n",
      "              precision    recall  f1-score   support\n",
      "\n",
      "           0       0.86      0.97      0.91       201\n",
      "           1       0.77      0.43      0.55        54\n",
      "\n",
      "    accuracy                           0.85       255\n",
      "   macro avg       0.81      0.70      0.73       255\n",
      "weighted avg       0.84      0.85      0.83       255\n",
      "\n"
     ]
    }
   ],
   "source": [
    "for i in range (0, 5):\n",
    "    \n",
    "    # read the input as pandas dataframe\n",
    "    train = pd.read_csv(file_path + train_set_augmented + \"%d.tsv\" %i, sep='\\t')\n",
    "    val = pd.read_csv(file_path + val_set + \"%d.tsv\" %i, sep ='\\t')\n",
    "\n",
    "    # drop na values\n",
    "    train.dropna(inplace=True)\n",
    "    val.dropna(inplace=True)\n",
    "\n",
    "    # use tf-idf method to vectorize the body texts\n",
    "    label = list(train['label'])\n",
    "    body_texts = list(train['body'])\n",
    "\n",
    "    print(\"Report_Augmented %d\" %i)\n",
    "    vectorized = TfidfVectorizer(\n",
    "        min_df = 0.0,\n",
    "        analyzer = 'word',\n",
    "        sublinear_tf = True,\n",
    "        ngram_range = (1, 3),\n",
    "        max_features = 5000\n",
    "    )\n",
    "\n",
    "    # train value (x)\n",
    "    matrix = vectorized.fit_transform(body_texts)\n",
    "\n",
    "    # save fitted tfidfVectorizer\n",
    "    joblib.dump(vectorized, file_path + vector_file + \"aug_%d.pkl\" %i)\n",
    "\n",
    "    # make logistic regression model using tfidfVectorizer\n",
    "    model = LogisticRegression(class_weight=\"balanced\")\n",
    "    model.fit(matrix, label)\n",
    "\n",
    "    # save the model\n",
    "    joblib.dump(model, file_path + model_file + \"aug_%d.pkl\" %i)\n",
    "    \n",
    "    # model evaluation\n",
    "    val_label = list(val['label'])\n",
    "    test_body_texts = list(val['body'])\n",
    "    \n",
    "    # evaluation vector\n",
    "    val_matrix = vectorized.transform(test_body_texts)\n",
    "    \n",
    "    print(\"Accuracy: %f\" %model.score(val_matrix, val_label))\n",
    "    \n",
    "    print(\"Classification Report_%d\" %i)\n",
    "    print(classification_report(val_label, model.predict(val_matrix)))"
   ]
  },
  {
   "cell_type": "markdown",
   "metadata": {},
   "source": [
    "## Train models for cropped texts"
   ]
  },
  {
   "cell_type": "code",
   "execution_count": 9,
   "metadata": {},
   "outputs": [
    {
     "name": "stdout",
     "output_type": "stream",
     "text": [
      "Report_Crop 0\n",
      "Accuracy: 0.972549\n",
      "Classification Report_0\n",
      "              precision    recall  f1-score   support\n",
      "\n",
      "           0       0.99      0.98      0.98       202\n",
      "           1       0.93      0.94      0.93        53\n",
      "\n",
      "    accuracy                           0.97       255\n",
      "   macro avg       0.96      0.96      0.96       255\n",
      "weighted avg       0.97      0.97      0.97       255\n",
      "\n",
      "Report_Crop 1\n",
      "Accuracy: 0.803922\n",
      "Classification Report_1\n",
      "              precision    recall  f1-score   support\n",
      "\n",
      "           0       0.96      0.78      0.86       202\n",
      "           1       0.52      0.89      0.65        53\n",
      "\n",
      "    accuracy                           0.80       255\n",
      "   macro avg       0.74      0.83      0.76       255\n",
      "weighted avg       0.87      0.80      0.82       255\n",
      "\n",
      "Report_Crop 2\n",
      "Accuracy: 0.666667\n",
      "Classification Report_2\n",
      "              precision    recall  f1-score   support\n",
      "\n",
      "           0       0.97      0.60      0.74       202\n",
      "           1       0.38      0.92      0.54        53\n",
      "\n",
      "    accuracy                           0.67       255\n",
      "   macro avg       0.67      0.76      0.64       255\n",
      "weighted avg       0.85      0.67      0.70       255\n",
      "\n",
      "Report_Crop 3\n",
      "Accuracy: 0.835294\n",
      "Classification Report_3\n",
      "              precision    recall  f1-score   support\n",
      "\n",
      "           0       0.95      0.83      0.89       201\n",
      "           1       0.57      0.85      0.69        54\n",
      "\n",
      "    accuracy                           0.84       255\n",
      "   macro avg       0.76      0.84      0.79       255\n",
      "weighted avg       0.87      0.84      0.85       255\n",
      "\n",
      "Report_Crop 4\n",
      "Accuracy: 0.843137\n",
      "Classification Report_4\n",
      "              precision    recall  f1-score   support\n",
      "\n",
      "           0       0.91      0.89      0.90       201\n",
      "           1       0.62      0.67      0.64        54\n",
      "\n",
      "    accuracy                           0.84       255\n",
      "   macro avg       0.76      0.78      0.77       255\n",
      "weighted avg       0.85      0.84      0.85       255\n",
      "\n"
     ]
    }
   ],
   "source": [
    "for i in range (0, 5):\n",
    "    \n",
    "    # read the input as pandas dataframe\n",
    "    train = pd.read_csv(file_path + train_set_crop + \"%d.tsv\" %i, sep='\\t')\n",
    "    val = pd.read_csv(file_path + val_set + \"%d.tsv\" %i, sep ='\\t')\n",
    "\n",
    "    # drop na values\n",
    "    train.dropna(inplace=True)\n",
    "    val.dropna(inplace=True)\n",
    "\n",
    "    # use tf-idf method to vectorize the body texts\n",
    "    label = list(train['label'])\n",
    "    body_texts = list(train['body'])\n",
    "\n",
    "    print(\"Report_Crop %d\" %i)\n",
    "    vectorized = TfidfVectorizer(\n",
    "        min_df = 0.0,\n",
    "        analyzer = 'word',\n",
    "        sublinear_tf = True,\n",
    "        ngram_range = (1, 3),\n",
    "        max_features = 5000\n",
    "    )\n",
    "\n",
    "    # train value (x)\n",
    "    matrix = vectorized.fit_transform(body_texts)\n",
    "\n",
    "    # save fitted tfidfVectorizer\n",
    "    joblib.dump(vectorized, file_path + vector_file + \"crop_%d.pkl\" %i)\n",
    "\n",
    "    # make logistic regression model using tfidfVectorizer\n",
    "    model = LogisticRegression(class_weight=\"balanced\")\n",
    "    model.fit(matrix, label)\n",
    "\n",
    "    # save the model\n",
    "    joblib.dump(model, file_path + model_file + \"crop_%d.pkl\" %i)\n",
    "    \n",
    "    # model evaluation\n",
    "    val_label = list(val['label'])\n",
    "    test_body_texts = list(val['body'])\n",
    "    \n",
    "    # evaluation vector\n",
    "    val_matrix = vectorized.transform(test_body_texts)\n",
    "    \n",
    "    print(\"Accuracy: %f\" %model.score(val_matrix, val_label))\n",
    "    \n",
    "    print(\"Classification Report_%d\" %i)\n",
    "    print(classification_report(val_label, model.predict(val_matrix)))"
   ]
  }
 ],
 "metadata": {
  "kernelspec": {
   "display_name": "Python 3 (ipykernel)",
   "language": "python",
   "name": "python3"
  },
  "language_info": {
   "codemirror_mode": {
    "name": "ipython",
    "version": 3
   },
   "file_extension": ".py",
   "mimetype": "text/x-python",
   "name": "python",
   "nbconvert_exporter": "python",
   "pygments_lexer": "ipython3",
   "version": "3.8.8"
  }
 },
 "nbformat": 4,
 "nbformat_minor": 4
}
